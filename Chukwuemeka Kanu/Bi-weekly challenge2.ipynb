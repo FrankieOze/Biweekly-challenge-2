{
 "cells": [
  {
   "cell_type": "code",
   "execution_count": 1,
   "id": "1c4c1726",
   "metadata": {},
   "outputs": [
    {
     "name": "stdout",
     "output_type": "stream",
     "text": [
      "input your name: Emeka\n",
      "input your age: 85\n",
      "Hello Emeka , you are 85 years old\n",
      "Your year of Birth is 1936\n",
      "As you are 85 years old, you are an Adult\n",
      "In 2011 you were 75 years old\n",
      "In 2021 you were 85 years old\n",
      "In 2031 you were 95 years old\n",
      "In 2041 you were 105 years old\n",
      "In 2051 you were 115 years old\n",
      "In 2061 you were 125 years old\n",
      "In 2071 you were 135 years old\n"
     ]
    }
   ],
   "source": [
    "\n",
    "def age_strate(input):\n",
    "    name_input = input('input your name: ')\n",
    "    age_input = int(input('input your age: '))\n",
    "    print('Hello', name_input,', you are', age_input, 'years old')\n",
    "\n",
    "    dob = 2021 - age_input\n",
    "    print('Your year of Birth is', dob)\n",
    "\n",
    "    if age_input<1:\n",
    "        print('As you are', age_input, 'years old, you are an Infant')\n",
    "    elif age_input<=11:\n",
    "        print('As you are', age_input, 'years old, you a an Child')\n",
    "    elif age_input<=17:\n",
    "        print('As you are', age_input, 'years old, you are a Teen')\n",
    "    else:\n",
    "        print('As you are', age_input, 'years old, you are an Adult')\n",
    "\n",
    "\n",
    "    decades = range(-10,51,10)\n",
    "    decade_age = 0\n",
    "    for i in decades:\n",
    "        decade_calculation = 2021 + i\n",
    "        decade_age = age_input + i\n",
    "        print('In', decade_calculation, 'you were', decade_age, 'years old')\n",
    "\n",
    "        \n",
    "\n",
    "age_strate(input)"
   ]
  },
  {
   "cell_type": "code",
   "execution_count": null,
   "id": "9ad845e1",
   "metadata": {},
   "outputs": [],
   "source": []
  }
 ],
 "metadata": {
  "kernelspec": {
   "display_name": "Python 3 (ipykernel)",
   "language": "python",
   "name": "python3"
  },
  "language_info": {
   "codemirror_mode": {
    "name": "ipython",
    "version": 3
   },
   "file_extension": ".py",
   "mimetype": "text/x-python",
   "name": "python",
   "nbconvert_exporter": "python",
   "pygments_lexer": "ipython3",
   "version": "3.8.8"
  },
  "toc": {
   "base_numbering": 1,
   "nav_menu": {},
   "number_sections": true,
   "sideBar": true,
   "skip_h1_title": false,
   "title_cell": "Table of Contents",
   "title_sidebar": "Contents",
   "toc_cell": false,
   "toc_position": {},
   "toc_section_display": true,
   "toc_window_display": false
  }
 },
 "nbformat": 4,
 "nbformat_minor": 5
}
