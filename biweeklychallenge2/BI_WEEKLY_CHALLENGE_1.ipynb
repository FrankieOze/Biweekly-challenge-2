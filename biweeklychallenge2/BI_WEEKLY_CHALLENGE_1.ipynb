{
 "cells": [
  {
   "cell_type": "code",
   "execution_count": 8,
   "id": "49bc138d",
   "metadata": {},
   "outputs": [
    {
     "name": "stdout",
     "output_type": "stream",
     "text": [
      "faith\n",
      "27\n",
      "my name is faith, my age is 27\n"
     ]
    }
   ],
   "source": [
    "#printing users name and age\n",
    "name = input()\n",
    "\n",
    "age = input()\n",
    "\n",
    "print(\"my name is \"+ name +\", my age is \"+ str(age))"
   ]
  },
  {
   "cell_type": "code",
   "execution_count": 10,
   "id": "d558e8d6",
   "metadata": {},
   "outputs": [
    {
     "name": "stdout",
     "output_type": "stream",
     "text": [
      "1994\n"
     ]
    }
   ],
   "source": [
    "#users date of birth\n",
    "year = 2021\n",
    "dob = year- int(age)\n",
    "print(dob)"
   ]
  },
  {
   "cell_type": "code",
   "execution_count": 177,
   "id": "f2937913",
   "metadata": {},
   "outputs": [
    {
     "name": "stdout",
     "output_type": "stream",
     "text": [
      "Adult\n"
     ]
    }
   ],
   "source": [
    "#users age group\n",
    "age = 27\n",
    "if (age <1):\n",
    "    Group = \"Infant\"\n",
    "elif (age >=1) & (age <=11):\n",
    "    Group = \"Child\"\n",
    "elif (age >=12) & (age <=17): \n",
    "    Group = \"Teens\"\n",
    "elif (age >=18) & (age <=64):\n",
    "    Group = \"Adult\"\n",
    "else:\n",
    "    Group = \"Older Adult\"\n",
    "print(Group)"
   ]
  },
  {
   "cell_type": "code",
   "execution_count": 61,
   "id": "6e072aa0",
   "metadata": {},
   "outputs": [
    {
     "data": {
      "text/plain": [
       "17"
      ]
     },
     "execution_count": 61,
     "metadata": {},
     "output_type": "execute_result"
    }
   ],
   "source": [
    "#users age a decade ago\n",
    "decade=10\n",
    "decade_ago =int(age)- decade\n",
    "decade_ago"
   ]
  },
  {
   "cell_type": "code",
   "execution_count": 71,
   "id": "3eac3e15",
   "metadata": {},
   "outputs": [
    {
     "name": "stdout",
     "output_type": "stream",
     "text": [
      "10\n",
      "20\n",
      "30\n",
      "40\n",
      "50\n"
     ]
    }
   ],
   "source": [
    "# what the users age will be for the next 50 years\n",
    "for i in range (10,60,10):\n",
    "    print(i)"
   ]
  },
  {
   "cell_type": "code",
   "execution_count": 89,
   "id": "e622514d",
   "metadata": {},
   "outputs": [
    {
     "name": "stdout",
     "output_type": "stream",
     "text": [
      "[36]\n",
      "[2030]\n",
      "[36, 46]\n",
      "[2030, 2040]\n",
      "[36, 46, 56]\n",
      "[2030, 2040, 2050]\n",
      "[36, 46, 56, 66]\n",
      "[2030, 2040, 2050, 2060]\n",
      "[36, 46, 56, 66, 76]\n",
      "[2030, 2040, 2050, 2060, 2070]\n"
     ]
    }
   ],
   "source": [
    "current_age =26\n",
    "current_year =2020\n",
    "new_age = []\n",
    "new_year = []\n",
    "\n",
    "for i in range(10,60,10):\n",
    "    new_a = current_age + i\n",
    "    new_age.append(new_a)\n",
    "    print(new_age)\n",
    "    new_y = current_year + i\n",
    "    new_year.append(new_y)\n",
    "    print(new_year)"
   ]
  },
  {
   "cell_type": "code",
   "execution_count": 86,
   "id": "10638756",
   "metadata": {},
   "outputs": [
    {
     "data": {
      "text/plain": [
       "[36, 46, 56, 66, 76]"
      ]
     },
     "execution_count": 86,
     "metadata": {},
     "output_type": "execute_result"
    }
   ],
   "source": [
    "new_age"
   ]
  },
  {
   "cell_type": "code",
   "execution_count": 90,
   "id": "a96fcc57",
   "metadata": {},
   "outputs": [
    {
     "data": {
      "text/plain": [
       "[2030, 2040, 2050, 2060, 2070]"
      ]
     },
     "execution_count": 90,
     "metadata": {},
     "output_type": "execute_result"
    }
   ],
   "source": [
    "new_year"
   ]
  },
  {
   "cell_type": "code",
   "execution_count": 104,
   "id": "034f0a65",
   "metadata": {},
   "outputs": [
    {
     "name": "stdout",
     "output_type": "stream",
     "text": [
      "36 2030\n",
      "46 2040\n",
      "56 2050\n",
      "66 2060\n",
      "76 2070\n"
     ]
    }
   ],
   "source": [
    "for i in range(len(new_age)):\n",
    "    c= new_age[i]\n",
    "    d= new_year[i]\n",
    "    print(c,d)"
   ]
  },
  {
   "cell_type": "code",
   "execution_count": 132,
   "id": "fede905a",
   "metadata": {},
   "outputs": [
    {
     "data": {
      "text/plain": [
       "[36, 46, 56, 66, 77]"
      ]
     },
     "execution_count": 132,
     "metadata": {},
     "output_type": "execute_result"
    }
   ],
   "source": [
    "import numpy as np\n",
    "next_fifty_age = np.array=([36,46,56,66,77])\n",
    "next_fifty_age"
   ]
  },
  {
   "cell_type": "code",
   "execution_count": 133,
   "id": "560cfcb0",
   "metadata": {},
   "outputs": [
    {
     "data": {
      "text/plain": [
       "[2030, 2040, 2050, 2060, 2070]"
      ]
     },
     "execution_count": 133,
     "metadata": {},
     "output_type": "execute_result"
    }
   ],
   "source": [
    "next_fifty_year = np.array =([2030,2040,2050,2060,2070])\n",
    "next_fifty_year"
   ]
  },
  {
   "cell_type": "code",
   "execution_count": 219,
   "id": "df34e7bb",
   "metadata": {
    "scrolled": true
   },
   "outputs": [
    {
     "name": "stdout",
     "output_type": "stream",
     "text": [
      "Hello, Miss faith You are 27 years old,\n",
      "Your year of birth is 1994\n",
      "As you are 27 years old,  you are an Adult\n",
      "In 2011 you were-17 Years old, \n",
      "In 2030, You'll be 36 years old\n",
      "In 2040, You'll be 46 years old\n",
      "In 2050, You'll be 56 years old\n",
      "In 2060, You'll be 66 years old\n",
      "In 2070, You'll be 76 years old\n"
     ]
    }
   ],
   "source": [
    "#printing the final statement\n",
    "first_concat = \"Hello, \" +\"Miss \"+str(name)+\" You are \" + str(age) + \" years old,\"\n",
    "print(first_concat)\n",
    "second_concat = \"Your year of birth is \"+ str(dob)\n",
    "print(second_concat)\n",
    "third_concat = \"As you are \"+str(age)+\" years old, \"+\" you are an \"+str(Group) \n",
    "print(third_concat)\n",
    "fourth_concat = \"In 2011 you were-\"+str(decade_ago)+\" Years old, \"\n",
    "print(fourth_concat)\n",
    "fifth_concat = \"In \"+str(new_year[0])+\", You'll be \"+str(new_age[0])+\" years old\"\n",
    "print(fifth_concat)\n",
    "sixth_concat = \"In \"+str(new_year[1])+\", You'll be \"+str(new_age[1])+\" years old\"\n",
    "print(sixth_concat)\n",
    "seventh_concat = \"In \"+str(new_year[2])+\", You'll be \"+str(new_age[2])+\" years old\"\n",
    "print(seventh_concat)\n",
    "eigth_concat = \"In \"+str(new_year[3])+\", You'll be \"+str(new_age[3])+\" years old\"\n",
    "print(eigth_concat)\n",
    "ninth_concat = \"In \"+str(new_year[4])+\", You'll be \"+str(new_age[4])+\" years old\"\n",
    "print(ninth_concat)"
   ]
  }
 ],
 "metadata": {
  "kernelspec": {
   "display_name": "classenv",
   "language": "python",
   "name": "classenv"
  },
  "language_info": {
   "codemirror_mode": {
    "name": "ipython",
    "version": 3
   },
   "file_extension": ".py",
   "mimetype": "text/x-python",
   "name": "python",
   "nbconvert_exporter": "python",
   "pygments_lexer": "ipython3",
   "version": "3.9.6"
  }
 },
 "nbformat": 4,
 "nbformat_minor": 5
}
